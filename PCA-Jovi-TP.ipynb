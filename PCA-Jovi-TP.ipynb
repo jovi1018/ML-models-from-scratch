{
 "cells": [
  {
   "cell_type": "code",
   "execution_count": 1,
   "metadata": {},
   "outputs": [],
   "source": [
    "import numpy as np"
   ]
  },
  {
   "cell_type": "code",
   "execution_count": 2,
   "metadata": {},
   "outputs": [],
   "source": [
    "X = np.random.randn(100, 20)"
   ]
  },
  {
   "cell_type": "code",
   "execution_count": 3,
   "metadata": {},
   "outputs": [
    {
     "name": "stdout",
     "output_type": "stream",
     "text": [
      "[[-0.07594781 -0.87576484  0.95583753 ...  0.02457054 -0.41590911\n",
      "   0.34397886]\n",
      " [-0.40488181  1.46202822 -0.17362794 ...  1.01911087 -1.25835293\n",
      "  -0.09404641]\n",
      " [ 0.18344077 -1.06128223  0.72642882 ...  0.32938267  1.07533389\n",
      "  -1.15241276]\n",
      " ...\n",
      " [-0.22164172  0.59205146 -1.04723482 ... -2.07732879  1.91416336\n",
      "  -2.20613649]\n",
      " [-0.59884201 -0.05368383  1.12997878 ... -1.22301834  0.87753054\n",
      "  -0.9893248 ]\n",
      " [ 1.36927831 -0.08612602 -0.10491537 ... -0.16435215  1.27015554\n",
      "   0.8959458 ]]\n"
     ]
    }
   ],
   "source": [
    "print(X)"
   ]
  },
  {
   "cell_type": "code",
   "execution_count": 4,
   "metadata": {},
   "outputs": [],
   "source": [
    "class PCA():\n",
    "    def __init__(self, n_components = None):\n",
    "        self.n_components = n_components\n",
    "        \n",
    "    def fit(self, A):\n",
    "        self.A_central = A - np.mean(A, axis=0)\n",
    "        cov_mat = np.dot(self.A_central.T, A)\n",
    "        eigenvalues, eigenvectors =  np.linalg.eig(cov_mat)\n",
    "        sorted_index = np.argsort(eigenvalues)[::-1]\n",
    "        \n",
    "        if self.n_components == None:\n",
    "            self.vectors = eigenvectors[sorted_index][:min(A.shape[0], A.shape[1])]\n",
    "        elif self.n_components > min(A.shape[0], A.shape[1]):\n",
    "            print('Error: n_components must be smaller than min of shape of design matrix!')\n",
    "        else:\n",
    "            self.vectors = eigenvectors[sorted_index][0:self.n_components]\n",
    "        print('PCA()')\n",
    "    \n",
    "    def transform(self, A):\n",
    "        return np.dot(self.A_central, self.vectors.T)\n",
    "    \n",
    "    def fit_transform(self, A):\n",
    "        self.A_central = A - np.mean(A, axis=0)\n",
    "        cov_mat = np.dot(self.A_central.T, A)\n",
    "        eigenvalues, eigenvectors =  np.linalg.eig(cov_mat)\n",
    "        sorted_index = np.argsort(eigenvalues)[::-1]\n",
    "        \n",
    "        if self.n_components == None:\n",
    "            self.vectors = eigenvectors[sorted_index][:min(A.shape[0], A.shape[1])]\n",
    "        elif self.n_components > min(A.shape[0], A.shape[1]):\n",
    "            print('Error: n_components must be smaller than min of shape of design matrix!')\n",
    "        else:\n",
    "            self.vectors = eigenvectors[sorted_index][0:self.n_components]\n",
    "        return np.dot(self.A_central, self.vectors.T)"
   ]
  },
  {
   "cell_type": "code",
   "execution_count": 5,
   "metadata": {},
   "outputs": [],
   "source": [
    "pca = PCA(n_components=3)"
   ]
  },
  {
   "cell_type": "code",
   "execution_count": 6,
   "metadata": {},
   "outputs": [],
   "source": [
    "X_pca = pca.fit_transform(X)"
   ]
  },
  {
   "cell_type": "code",
   "execution_count": 7,
   "metadata": {},
   "outputs": [
    {
     "data": {
      "text/plain": [
       "(100, 3)"
      ]
     },
     "execution_count": 7,
     "metadata": {},
     "output_type": "execute_result"
    }
   ],
   "source": [
    "X_pca.shape"
   ]
  }
 ],
 "metadata": {
  "kernelspec": {
   "display_name": "Python 3",
   "language": "python",
   "name": "python3"
  },
  "language_info": {
   "codemirror_mode": {
    "name": "ipython",
    "version": 3
   },
   "file_extension": ".py",
   "mimetype": "text/x-python",
   "name": "python",
   "nbconvert_exporter": "python",
   "pygments_lexer": "ipython3",
   "version": "3.9.9"
  }
 },
 "nbformat": 4,
 "nbformat_minor": 2
}
