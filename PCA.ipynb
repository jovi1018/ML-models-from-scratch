{
 "cells": [
  {
   "cell_type": "code",
   "execution_count": 1,
   "metadata": {},
   "outputs": [],
   "source": [
    "import numpy as np"
   ]
  },
  {
   "cell_type": "code",
   "execution_count": 2,
   "metadata": {},
   "outputs": [],
   "source": [
    "X = np.random.randn(100, 20)"
   ]
  },
  {
   "cell_type": "code",
   "execution_count": 3,
   "metadata": {},
   "outputs": [
    {
     "name": "stdout",
     "output_type": "stream",
     "text": [
      "[[-1.28871471  0.51522644 -0.93674385 ...  0.68270946 -1.05503493\n",
      "  -1.64834567]\n",
      " [-0.05295358  2.03145614 -0.5526322  ... -1.03965974 -0.66537805\n",
      "   0.88573905]\n",
      " [ 1.06710148  0.90145138 -1.24693257 ... -0.51394328  0.03643915\n",
      "  -0.39137968]\n",
      " ...\n",
      " [-0.37478861  0.31737126 -0.20524214 ...  0.28691812  1.55793382\n",
      "   0.52001299]\n",
      " [-1.79551122  1.21350789 -0.56329925 ... -1.43880879  0.5000628\n",
      "   0.90001094]\n",
      " [-0.08929512  0.67649577 -0.09207413 ...  1.00181537 -0.7077199\n",
      "   0.92836122]]\n"
     ]
    }
   ],
   "source": [
    "print(X)"
   ]
  },
  {
   "cell_type": "code",
   "execution_count": 4,
   "metadata": {},
   "outputs": [],
   "source": [
    "class PCA():\n",
    "    def __init__(self, n_components = None):\n",
    "        self.n_components = n_components\n",
    "        \n",
    "    def fit(self, A):\n",
    "        self.A_central = A - np.mean(A, axis=0)\n",
    "        cov_mat = np.dot(self.A_central.T, A)\n",
    "        eigenvalues, eigenvectors =  np.linalg.eig(cov_mat)\n",
    "        sorted_index = np.argsort(eigenvalues)[::-1]\n",
    "        \n",
    "        if self.n_components == None:\n",
    "            self.vectors = eigenvectors[sorted_index][:min(A.shape[0], A.shape[1])]\n",
    "        elif self.n_components > min(A.shape[0], A.shape[1]):\n",
    "            print('Error: n_components must be smaller than min of shape of design matrix!')\n",
    "        else:\n",
    "            self.vectors = eigenvectors[sorted_index][0:self.n_components]\n",
    "        print('PCA()')\n",
    "    \n",
    "    def transform(self, A):\n",
    "        return np.dot(self.A_central, self.vectors.T)\n",
    "    \n",
    "    def fit_transform(self, A):\n",
    "        self.A_central = A - np.mean(A, axis=0)\n",
    "        cov_mat = np.dot(self.A_central.T, A)\n",
    "        eigenvalues, eigenvectors =  np.linalg.eig(cov_mat)\n",
    "        sorted_index = np.argsort(eigenvalues)[::-1]\n",
    "        \n",
    "        if self.n_components == None:\n",
    "            self.vectors = eigenvectors[sorted_index][:min(A.shape[0], A.shape[1])]\n",
    "        elif self.n_components > min(A.shape[0], A.shape[1]):\n",
    "            print('Error: n_components must be smaller than min of shape of design matrix!')\n",
    "        else:\n",
    "            self.vectors = eigenvectors[sorted_index][0:self.n_components]\n",
    "        return np.dot(self.A_central, self.vectors.T)"
   ]
  },
  {
   "cell_type": "code",
   "execution_count": 5,
   "metadata": {},
   "outputs": [],
   "source": [
    "pca = PCA(n_components=3)"
   ]
  },
  {
   "cell_type": "code",
   "execution_count": 6,
   "metadata": {},
   "outputs": [],
   "source": [
    "X_pca = pca.fit_transform(X)"
   ]
  },
  {
   "cell_type": "code",
   "execution_count": 7,
   "metadata": {},
   "outputs": [
    {
     "data": {
      "text/plain": [
       "(100, 3)"
      ]
     },
     "execution_count": 7,
     "metadata": {},
     "output_type": "execute_result"
    }
   ],
   "source": [
    "X_pca.shape"
   ]
  }
 ],
 "metadata": {
  "kernelspec": {
   "display_name": "Python 3",
   "language": "python",
   "name": "python3"
  },
  "language_info": {
   "codemirror_mode": {
    "name": "ipython",
    "version": 3
   },
   "file_extension": ".py",
   "mimetype": "text/x-python",
   "name": "python",
   "nbconvert_exporter": "python",
   "pygments_lexer": "ipython3",
   "version": "3.6.5"
  }
 },
 "nbformat": 4,
 "nbformat_minor": 2
}
