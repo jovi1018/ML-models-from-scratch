{
 "cells": [
  {
   "cell_type": "code",
   "execution_count": 1,
   "metadata": {},
   "outputs": [],
   "source": [
    "import numpy as np"
   ]
  },
  {
   "cell_type": "code",
   "execution_count": 2,
   "metadata": {},
   "outputs": [
    {
     "data": {
      "text/plain": [
       "array([[1, 2, 3, 4],\n",
       "       [5, 5, 6, 7],\n",
       "       [1, 4, 2, 3],\n",
       "       [5, 3, 2, 1],\n",
       "       [8, 1, 2, 2]])"
      ]
     },
     "execution_count": 2,
     "metadata": {},
     "output_type": "execute_result"
    }
   ],
   "source": [
    "X = np.array([\n",
    "    [1, 2, 3, 4],\n",
    "    [5, 5, 6, 7],\n",
    "    [1, 4, 2, 3],\n",
    "    [5, 3, 2, 1], \n",
    "    [8, 1, 2, 2]\n",
    "])\n",
    "X"
   ]
  },
  {
   "cell_type": "code",
   "execution_count": 3,
   "metadata": {},
   "outputs": [
    {
     "data": {
      "text/plain": [
       "array([[-1.11803399, -0.70710678,  0.        ,  0.29138576],\n",
       "       [ 0.372678  ,  1.41421356,  1.93649167,  1.74831455],\n",
       "       [-1.11803399,  0.70710678, -0.64549722, -0.19425717],\n",
       "       [ 0.372678  ,  0.        , -0.64549722, -1.16554303],\n",
       "       [ 1.49071198, -1.41421356, -0.64549722, -0.6799001 ]])"
      ]
     },
     "execution_count": 3,
     "metadata": {},
     "output_type": "execute_result"
    }
   ],
   "source": [
    "# scaling the original dataset before PCA\n",
    "from sklearn.preprocessing import StandardScaler\n",
    "scaler = StandardScaler()\n",
    "X_scaled = scaler.fit_transform(X)\n",
    "X_scaled"
   ]
  },
  {
   "cell_type": "code",
   "execution_count": 4,
   "metadata": {},
   "outputs": [],
   "source": [
    "class PCA():\n",
    "    def __init__(self, n_components = None):\n",
    "        self.n_components = n_components\n",
    "    \n",
    "    def fit_transform(self, A):\n",
    "        self.A_central = A - np.mean(A, axis=0)\n",
    "        cov_mat = np.dot(self.A_central.T, self.A_central)\n",
    "        eigenvalues, eigenvectors =  np.linalg.eig(cov_mat)\n",
    "        sorted_index = np.argsort(eigenvalues)[::-1]\n",
    "        \n",
    "        if self.n_components == None:\n",
    "            self.vectors = eigenvectors[:, sorted_index]\n",
    "        elif self.n_components > min(A.shape[0], A.shape[1]):\n",
    "            print('Error: n_components must be smaller than min of shape of design matrix!')\n",
    "        else:\n",
    "            self.vectors = eigenvectors[:, sorted_index][0:self.n_components]\n",
    "        return np.dot(self.A_central, self.vectors.T)"
   ]
  },
  {
   "cell_type": "code",
   "execution_count": 5,
   "metadata": {},
   "outputs": [
    {
     "data": {
      "text/plain": [
       "array([[-1.4611346 ,  1.12036836],\n",
       "       [-1.49743732, -3.98124212],\n",
       "       [-2.61943625,  1.8455649 ],\n",
       "       [ 1.11098979,  0.93845399],\n",
       "       [ 4.46701838,  0.07685486]])"
      ]
     },
     "execution_count": 5,
     "metadata": {},
     "output_type": "execute_result"
    }
   ],
   "source": [
    "pca = PCA(n_components=2)\n",
    "pca.fit_transform(X)"
   ]
  }
 ],
 "metadata": {
  "kernelspec": {
   "display_name": "Python 3",
   "language": "python",
   "name": "python3"
  },
  "language_info": {
   "codemirror_mode": {
    "name": "ipython",
    "version": 3
   },
   "file_extension": ".py",
   "mimetype": "text/x-python",
   "name": "python",
   "nbconvert_exporter": "python",
   "pygments_lexer": "ipython3",
   "version": "3.9.9"
  }
 },
 "nbformat": 4,
 "nbformat_minor": 2
}
