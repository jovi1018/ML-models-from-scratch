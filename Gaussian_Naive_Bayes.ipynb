{
 "cells": [
  {
   "cell_type": "code",
   "execution_count": 1,
   "metadata": {},
   "outputs": [],
   "source": [
    "from sklearn.datasets import load_iris\n",
    "import numpy as np\n",
    "import pandas as pd\n",
    "import math"
   ]
  },
  {
   "cell_type": "code",
   "execution_count": 2,
   "metadata": {},
   "outputs": [],
   "source": [
    "data = load_iris()"
   ]
  },
  {
   "cell_type": "code",
   "execution_count": 3,
   "metadata": {},
   "outputs": [],
   "source": [
    "X, y = data['data'], data['target']"
   ]
  },
  {
   "cell_type": "code",
   "execution_count": 4,
   "metadata": {},
   "outputs": [
    {
     "data": {
      "text/plain": [
       "Counter({0: 50, 1: 50, 2: 50})"
      ]
     },
     "execution_count": 4,
     "metadata": {},
     "output_type": "execute_result"
    }
   ],
   "source": [
    "from collections import Counter\n",
    "Counter(y)"
   ]
  },
  {
   "cell_type": "code",
   "execution_count": 5,
   "metadata": {},
   "outputs": [],
   "source": [
    "from sklearn.model_selection import train_test_split\n",
    "X_train, X_test, y_train, y_test = train_test_split(X, y, stratify=y, random_state=1)"
   ]
  },
  {
   "cell_type": "code",
   "execution_count": 6,
   "metadata": {},
   "outputs": [],
   "source": [
    "def Gaussian_NB(X_train, y_train, y_test):\n",
    "    mu = []\n",
    "    std = []\n",
    "    for c in np.unique(y_train):\n",
    "        mu.append(X_train[y_train == c].mean(axis=0))\n",
    "        std.append(X_train[y_train == c].std(axis=0))\n",
    "    mu = np.array(mu)\n",
    "    std = np.array(std)\n",
    "    prob = []\n",
    "    for i in range(len(mu)):\n",
    "        prob.append(np.exp(-(np.square(X_test - mu[i]) / (2 * np.square(std[i])))) / np.sqrt(2 * np.pi * np.square(std[i])))\n",
    "    prob = np.array(prob)\n",
    "\n",
    "    pred = np.argmax(np.sum(np.log(prob), axis=2), axis=0)\n",
    "    return pred\n"
   ]
  },
  {
   "cell_type": "code",
   "execution_count": 7,
   "metadata": {},
   "outputs": [],
   "source": [
    "class Gaussian_NB():\n",
    "    def __init__(self):\n",
    "        self\n",
    "    def fit(self, X_train, y_train):\n",
    "        self.mu = []\n",
    "        self.std = []\n",
    "        self.prior = []\n",
    "        for c in np.unique(y_train):\n",
    "            self.mu.append(X_train[y_train == c].mean(axis=0))\n",
    "            self.std.append(X_train[y_train == c].std(axis=0))\n",
    "            self.prior.append(np.mean(y_train==c))\n",
    "        self.mu = np.array(self.mu)\n",
    "        self.std = np.array(self.std)\n",
    "        self.prior = np.array(self.prior)\n",
    "        print('Gaussian_NB()')\n",
    "    def predict(self, X_test, error = 1e-100):\n",
    "        prob = []\n",
    "        for i in range(len(self.mu)):\n",
    "            prob.append(np.exp(-(np.square(X_test - self.mu[i]) / (2 * np.square(self.std[i])))) / np.sqrt(2 * np.pi * np.square(self.std[i])))\n",
    "        prob = np.array(prob)\n",
    "\n",
    "        res = []\n",
    "        ll = np.sum(np.log(prob), axis=2)\n",
    "        for i in range(len(self.prior)):\n",
    "            res.append(ll[i] +  np.log(self.prior[i]))\n",
    "\n",
    "        pred = np.argmax(res, axis=0)\n",
    "        return pred\n"
   ]
  },
  {
   "cell_type": "code",
   "execution_count": 8,
   "metadata": {},
   "outputs": [
    {
     "name": "stdout",
     "output_type": "stream",
     "text": [
      "Gaussian_NB()\n"
     ]
    }
   ],
   "source": [
    "nb = Gaussian_NB()\n",
    "nb.fit(X_train, y_train)"
   ]
  },
  {
   "cell_type": "code",
   "execution_count": 9,
   "metadata": {},
   "outputs": [],
   "source": [
    "y_pred = nb.predict(X_test)"
   ]
  },
  {
   "cell_type": "code",
   "execution_count": 10,
   "metadata": {},
   "outputs": [
    {
     "name": "stdout",
     "output_type": "stream",
     "text": [
      "Accuracy of Gaussian Naive Bayes is  0.9736842105263158\n"
     ]
    }
   ],
   "source": [
    "print('Accuracy of Gaussian Naive Bayes is ', np.mean(y_pred == y_test))"
   ]
  }
 ],
 "metadata": {
  "interpreter": {
   "hash": "0916ff24b2df39f00e86d3fd42a5a147843e3cd5722839dea8fcddb38a60cef2"
  },
  "kernelspec": {
   "display_name": "Python 3.9.9 64-bit (windows store)",
   "language": "python",
   "name": "python3"
  },
  "language_info": {
   "codemirror_mode": {
    "name": "ipython",
    "version": 3
   },
   "file_extension": ".py",
   "mimetype": "text/x-python",
   "name": "python",
   "nbconvert_exporter": "python",
   "pygments_lexer": "ipython3",
   "version": "3.9.9"
  },
  "orig_nbformat": 4
 },
 "nbformat": 4,
 "nbformat_minor": 2
}
