{
 "cells": [
  {
   "cell_type": "code",
   "execution_count": 1,
   "metadata": {},
   "outputs": [],
   "source": [
    "from sklearn.datasets import make_classification\n",
    "import numpy as np"
   ]
  },
  {
   "cell_type": "code",
   "execution_count": 2,
   "metadata": {},
   "outputs": [],
   "source": [
    "X, y = make_classification(n_samples=600, n_features=10, n_clusters_per_class=1, n_classes=4)"
   ]
  },
  {
   "cell_type": "code",
   "execution_count": 3,
   "metadata": {},
   "outputs": [
    {
     "data": {
      "text/plain": [
       "(600, 10)"
      ]
     },
     "execution_count": 3,
     "metadata": {},
     "output_type": "execute_result"
    }
   ],
   "source": [
    "X.shape"
   ]
  },
  {
   "cell_type": "code",
   "execution_count": 4,
   "metadata": {},
   "outputs": [
    {
     "data": {
      "text/plain": [
       "array([0, 1, 2, 3])"
      ]
     },
     "execution_count": 4,
     "metadata": {},
     "output_type": "execute_result"
    }
   ],
   "source": [
    "np.unique(y)"
   ]
  },
  {
   "cell_type": "code",
   "execution_count": 5,
   "metadata": {},
   "outputs": [],
   "source": [
    "def sigmoid(x):\n",
    "    return 1/(1+np.exp(-x))"
   ]
  },
  {
   "cell_type": "code",
   "execution_count": 6,
   "metadata": {},
   "outputs": [],
   "source": [
    "class Logistic_Regression():\n",
    "    def __init__(self):\n",
    "        self\n",
    "    def fit(self, X, y, lr = 0.1, n_iteration = 2000):\n",
    "        self.w = {}\n",
    "        self.b = {}\n",
    "        self.classes = np.unique(y)\n",
    "        for i in self.classes:\n",
    "            y_ = y.copy()\n",
    "            y_[y==i] = 1\n",
    "            y_[y!=i] = 0\n",
    "            W = np.random.randn(X.shape[1]+1)\n",
    "            logit = np.dot(X, W[1:]) + W[0]\n",
    "            y_hat = sigmoid(logit)\n",
    "            cost = -np.sum(y_ * np.log(y_hat) + (1-y_) * np.log(1-y_hat)) / X.shape[0]\n",
    "            for _ in range(n_iteration):\n",
    "                dev_w = np.dot(X.T, (y_hat - y_)) / X.shape[0]\n",
    "                dev_b = (y_hat - y_).sum() / X.shape[0] \n",
    "                W[0] -= lr * dev_b\n",
    "                W[1:] -= lr * dev_w\n",
    "                logit = np.dot(X, W[1:]) + W[0]\n",
    "                y_hat = sigmoid(logit)\n",
    "                cost = -np.sum(y_ * np.log(y_hat) + (1-y_) * np.log(1-y_hat)) / X.shape[0]\n",
    "            self.w['class_{}'.format(i)] = W[1:]\n",
    "            self.b['class_{}'.format(i)] = W[0]\n",
    "        print('Training Logistic Regression (Multi-classes)')\n",
    "        \n",
    "    def predict_prob(self, X_test):\n",
    "        prob = []\n",
    "        for i in self.classes:\n",
    "            logit = np.dot(X_test, self.w['class_{}'.format(i)]) + self.b['class_{}'.format(i)]\n",
    "            pred_prob = sigmoid(logit)\n",
    "            prob.append(pred_prob)\n",
    "        return np.array(prob).T\n",
    "        \n",
    "    def predict(self, X_test):\n",
    "        prob = []\n",
    "        for i in self.classes:\n",
    "            logit = np.dot(X_test, self.w['class_{}'.format(i)]) + self.b['class_{}'.format(i)]\n",
    "            pred_prob = sigmoid(logit)\n",
    "            prob.append(pred_prob)\n",
    "        return np.argmax(np.array(prob), axis=0)"
   ]
  },
  {
   "cell_type": "code",
   "execution_count": 7,
   "metadata": {},
   "outputs": [],
   "source": [
    "from sklearn.model_selection import train_test_split\n",
    "X_train, X_test, y_train, y_test = train_test_split(X, y, random_state=1)"
   ]
  },
  {
   "cell_type": "code",
   "execution_count": 8,
   "metadata": {},
   "outputs": [
    {
     "name": "stdout",
     "output_type": "stream",
     "text": [
      "Training Logistic Regression (Multi-classes)\n"
     ]
    }
   ],
   "source": [
    "lr = Logistic_Regression()\n",
    "lr.fit(X_train, y_train)"
   ]
  },
  {
   "cell_type": "code",
   "execution_count": 9,
   "metadata": {},
   "outputs": [],
   "source": [
    "prob = lr.predict_prob(X_test)"
   ]
  },
  {
   "cell_type": "code",
   "execution_count": 10,
   "metadata": {},
   "outputs": [
    {
     "name": "stdout",
     "output_type": "stream",
     "text": [
      "Accuracy for mulitple classificaiton(classes = 4) is 0.86\n"
     ]
    }
   ],
   "source": [
    "pred = lr.predict(X_test)\n",
    "print('Accuracy for mulitple classificaiton(classes = 4) is {}'.format(np.mean(pred == y_test)))"
   ]
  }
 ],
 "metadata": {
  "kernelspec": {
   "display_name": "Python 3",
   "language": "python",
   "name": "python3"
  },
  "language_info": {
   "codemirror_mode": {
    "name": "ipython",
    "version": 3
   },
   "file_extension": ".py",
   "mimetype": "text/x-python",
   "name": "python",
   "nbconvert_exporter": "python",
   "pygments_lexer": "ipython3",
   "version": "3.9.9"
  }
 },
 "nbformat": 4,
 "nbformat_minor": 4
}
