{
 "cells": [
  {
   "cell_type": "code",
   "execution_count": 1,
   "metadata": {},
   "outputs": [],
   "source": [
    "import numpy as np\n",
    "from sklearn.datasets import make_regression"
   ]
  },
  {
   "cell_type": "code",
   "execution_count": 2,
   "metadata": {},
   "outputs": [],
   "source": [
    "X, y = make_regression(n_samples=1000, n_features=20)"
   ]
  },
  {
   "cell_type": "code",
   "execution_count": 3,
   "metadata": {},
   "outputs": [
    {
     "data": {
      "text/plain": [
       "(1000, 20)"
      ]
     },
     "execution_count": 3,
     "metadata": {},
     "output_type": "execute_result"
    }
   ],
   "source": [
    "X.shape"
   ]
  },
  {
   "cell_type": "code",
   "execution_count": 4,
   "metadata": {},
   "outputs": [
    {
     "data": {
      "text/plain": [
       "(1000,)"
      ]
     },
     "execution_count": 4,
     "metadata": {},
     "output_type": "execute_result"
    }
   ],
   "source": [
    "y.shape"
   ]
  },
  {
   "cell_type": "code",
   "execution_count": 5,
   "metadata": {},
   "outputs": [],
   "source": [
    "class Linear_Regression():\n",
    "    def __init__(self):\n",
    "        self\n",
    "    def fit(self, X=None, y=None, W = None, lr = 0.1, n_iteration = 1000):\n",
    "        self.W = np.random.randn(X.shape[1] + 1)\n",
    "        cost = np.sum((np.dot(X, self.W[1:]) + self.W[0] - y) ** 2) / (2 * X.shape[0]) \n",
    "        for _ in range(n_iteration):\n",
    "            dev_w = np.dot((np.dot(X, self.W[1:]) + self.W[0] - y), X) / X.shape[0]\n",
    "            dev_b = np.sum(np.dot(X, self.W[1:]) + self.W[0] - y) / X.shape[0]\n",
    "            self.W[1:] -= lr * dev_w\n",
    "            self.W[0] -= lr * dev_b\n",
    "            cost = np.sum((np.dot(X, self.W[1:]) + self.W[0] - y) ** 2) / (2 * X.shape[0]) \n",
    "        print('Training Linear Regression Model')\n",
    "        #return W, b, n\n",
    "    def predict(self, X_test = None):\n",
    "        return np.dot(X_test, self.W[1:]) + self.W[0]\n",
    "        "
   ]
  },
  {
   "cell_type": "code",
   "execution_count": 6,
   "metadata": {},
   "outputs": [],
   "source": [
    "from sklearn.model_selection import train_test_split\n",
    "X_train, X_test, y_train, y_test = train_test_split(X, y, test_size = 0.3)"
   ]
  },
  {
   "cell_type": "code",
   "execution_count": 7,
   "metadata": {},
   "outputs": [
    {
     "name": "stdout",
     "output_type": "stream",
     "text": [
      "Training Linear Regression Model\n"
     ]
    }
   ],
   "source": [
    "lr = Linear_Regression()\n",
    "lr.fit(X_train, y_train)"
   ]
  },
  {
   "cell_type": "code",
   "execution_count": 8,
   "metadata": {},
   "outputs": [],
   "source": [
    "pred = lr.predict(X_test)"
   ]
  },
  {
   "cell_type": "code",
   "execution_count": 9,
   "metadata": {},
   "outputs": [
    {
     "name": "stdout",
     "output_type": "stream",
     "text": [
      "Mean_squared_error:  2.968429478131301e-26\n"
     ]
    }
   ],
   "source": [
    "mse  = np.sum((pred - y_test) ** 2) / len(y_test)\n",
    "print('Mean_squared_error: ', mse)"
   ]
  },
  {
   "cell_type": "code",
   "execution_count": 10,
   "metadata": {},
   "outputs": [
    {
     "data": {
      "text/plain": [
       "389.15597986711373"
      ]
     },
     "execution_count": 10,
     "metadata": {},
     "output_type": "execute_result"
    }
   ],
   "source": [
    "pred[2]"
   ]
  },
  {
   "cell_type": "code",
   "execution_count": 11,
   "metadata": {},
   "outputs": [
    {
     "data": {
      "text/plain": [
       "389.15597986711407"
      ]
     },
     "execution_count": 11,
     "metadata": {},
     "output_type": "execute_result"
    }
   ],
   "source": [
    "y_test[2]"
   ]
  },
  {
   "cell_type": "code",
   "execution_count": 12,
   "metadata": {},
   "outputs": [
    {
     "data": {
      "text/plain": [
       "array([ 7.36882152e+01,  7.20825270e+01, -6.66133815e-15,  8.88178420e-16,\n",
       "       -1.55431223e-15,  9.73544423e+01,  1.28800614e+01,  7.45849294e+01,\n",
       "        5.77315973e-15,  2.92111740e+01,  2.50246735e+01,  3.45422680e+01,\n",
       "        1.11022302e-15,  4.59799113e+01,  4.73644230e+01,  2.66453526e-15,\n",
       "       -6.43929354e-15, -1.77635684e-15, -8.88178420e-16,  3.77475828e-15])"
      ]
     },
     "execution_count": 12,
     "metadata": {},
     "output_type": "execute_result"
    }
   ],
   "source": [
    "np.dot(np.dot(np.linalg.inv(np.dot(X.T, X)), X.T), y)"
   ]
  },
  {
   "cell_type": "markdown",
   "metadata": {},
   "source": [
    "# Close Forms\n",
    "\n",
    "$$W = {(X^T\\cdot X)^{-1}\\cdot X^T\\cdot y}$$"
   ]
  },
  {
   "cell_type": "code",
   "execution_count": 13,
   "metadata": {},
   "outputs": [],
   "source": [
    "class LR_CF():\n",
    "    def __init__(self):\n",
    "        self\n",
    "    def fit(self, X, y):\n",
    "        self.W = np.dot(np.dot(np.linalg.inv(np.dot(X.T, X)), X.T), y)\n",
    "        print('Training Linear Regression Closed Form Model')\n",
    "        #return W, b, n\n",
    "    def predict(self, X_test = None):\n",
    "        return np.dot(X_test, self.W)\n",
    "        "
   ]
  },
  {
   "cell_type": "code",
   "execution_count": 14,
   "metadata": {},
   "outputs": [],
   "source": [
    "from sklearn.model_selection import train_test_split\n",
    "X_train, X_test, y_train, y_test = train_test_split(X, y, test_size = 0.3)"
   ]
  },
  {
   "cell_type": "code",
   "execution_count": 15,
   "metadata": {},
   "outputs": [
    {
     "name": "stdout",
     "output_type": "stream",
     "text": [
      "Training Linear Regression Closed Form Model\n"
     ]
    }
   ],
   "source": [
    "lr = LR_CF()\n",
    "lr.fit(X_train, y_train)"
   ]
  },
  {
   "cell_type": "code",
   "execution_count": 16,
   "metadata": {},
   "outputs": [],
   "source": [
    "pred = lr.predict(X_test)"
   ]
  },
  {
   "cell_type": "code",
   "execution_count": 17,
   "metadata": {},
   "outputs": [
    {
     "name": "stdout",
     "output_type": "stream",
     "text": [
      "Mean_squared_error:  2.9637714572061472e-27\n"
     ]
    }
   ],
   "source": [
    "mse  = np.sum((pred - y_test) ** 2) / len(y_test)\n",
    "print('Mean_squared_error: ', mse)"
   ]
  },
  {
   "cell_type": "code",
   "execution_count": 18,
   "metadata": {},
   "outputs": [
    {
     "data": {
      "text/plain": [
       "-141.43357145397565"
      ]
     },
     "execution_count": 18,
     "metadata": {},
     "output_type": "execute_result"
    }
   ],
   "source": [
    "pred[2]"
   ]
  },
  {
   "cell_type": "code",
   "execution_count": 19,
   "metadata": {},
   "outputs": [
    {
     "data": {
      "text/plain": [
       "-141.43357145397576"
      ]
     },
     "execution_count": 19,
     "metadata": {},
     "output_type": "execute_result"
    }
   ],
   "source": [
    "y_test[2]"
   ]
  }
 ],
 "metadata": {
  "kernelspec": {
   "display_name": "Python 3",
   "language": "python",
   "name": "python3"
  },
  "language_info": {
   "codemirror_mode": {
    "name": "ipython",
    "version": 3
   },
   "file_extension": ".py",
   "mimetype": "text/x-python",
   "name": "python",
   "nbconvert_exporter": "python",
   "pygments_lexer": "ipython3",
   "version": "3.9.9"
  }
 },
 "nbformat": 4,
 "nbformat_minor": 4
}
