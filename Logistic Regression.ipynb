{
 "cells": [
  {
   "cell_type": "code",
   "execution_count": 83,
   "metadata": {},
   "outputs": [],
   "source": [
    "import numpy as np\n",
    "import matplotlib.pyplot as plt\n",
    "from sklearn.datasets import make_classification\n",
    "plt.style.use('ggplot')"
   ]
  },
  {
   "cell_type": "code",
   "execution_count": 84,
   "metadata": {},
   "outputs": [],
   "source": [
    "X, y = make_classification(n_samples=1000, n_features=10, n_classes=2, random_state=1)"
   ]
  },
  {
   "cell_type": "code",
   "execution_count": 85,
   "metadata": {},
   "outputs": [
    {
     "data": {
      "text/plain": [
       "(1000, 10)"
      ]
     },
     "execution_count": 85,
     "metadata": {},
     "output_type": "execute_result"
    }
   ],
   "source": [
    "X.shape"
   ]
  },
  {
   "cell_type": "code",
   "execution_count": 86,
   "metadata": {},
   "outputs": [
    {
     "data": {
      "text/plain": [
       "array([0, 1])"
      ]
     },
     "execution_count": 86,
     "metadata": {},
     "output_type": "execute_result"
    }
   ],
   "source": [
    "np.unique(y)"
   ]
  },
  {
   "cell_type": "code",
   "execution_count": 87,
   "metadata": {},
   "outputs": [],
   "source": [
    "def sigmoid(x):\n",
    "    return 1 / (1 + np.exp(-x))"
   ]
  },
  {
   "cell_type": "code",
   "execution_count": 88,
   "metadata": {},
   "outputs": [],
   "source": [
    "X_ = np.arange(-10, 10)\n",
    "y_ = sigmoid(X_)"
   ]
  },
  {
   "cell_type": "code",
   "execution_count": 89,
   "metadata": {},
   "outputs": [
    {
     "data": {
      "image/png": "[encoded data removed]",
      "text/plain": [
       "<Figure size 432x288 with 1 Axes>"
      ]
     },
     "metadata": {},
     "output_type": "display_data"
    }
   ],
   "source": [
    "plt.plot(X_, y_)\n",
    "plt.title('Logistic function')\n",
    "plt.show()"
   ]
  },
  {
   "cell_type": "code",
   "execution_count": 119,
   "metadata": {},
   "outputs": [],
   "source": [
    "class Logistic_Regression():\n",
    "    def __init__(self):\n",
    "        self\n",
    "    def fit(self, X=None, y=None, W = None, lr = 0.1, n_iteration = 2000):\n",
    "        self.W = np.random.randn(X.shape[1]+1)\n",
    "        logit = np.dot(X, self.W[1:]) + self.W[0]\n",
    "        y_hat = sigmoid(logit)\n",
    "        cost = (-np.sum(y * np.log(y_hat) + (1-y) * np.log(1-y_hat))) / X.shape[0] \n",
    "        for _ in range(n_iteration):\n",
    "            dev_w = np.dot(X.T, (y_hat - y)) / X.shape[0]\n",
    "            dev_b = (y_hat - y).sum() / X.shape[0] \n",
    "            self.W[0] -= lr * dev_b\n",
    "            self.W[1:] -= lr * dev_w\n",
    "            logit = np.dot(X, self.W[1:]) + self.W[0]\n",
    "            y_hat = sigmoid(logit)\n",
    "            cost = -np.sum(y * np.log(y_hat) + (1-y) * np.log(1-y_hat)) / X.shape[0] \n",
    "        print('Training Logistic Regression')\n",
    "        \n",
    "    def predict_prob(self, X_test = None):\n",
    "        logit = np.dot(X_test, self.W[1:]) + self.W[0]\n",
    "        pred_prob = sigmoid(logit)\n",
    "        return pred_prob\n",
    "    \n",
    "    def predict(self, X_test = None, threshold = 0.5):\n",
    "        logit = np.dot(X_test, self.W[1:]) + self.W[0]\n",
    "        pred = sigmoid(logit) >= threshold\n",
    "        pred = pred.astype('int')\n",
    "        return pred\n",
    "        "
   ]
  },
  {
   "cell_type": "code",
   "execution_count": 120,
   "metadata": {},
   "outputs": [],
   "source": [
    "from sklearn.model_selection import train_test_split, cross_val_score\n",
    "X_train, X_test, y_train, y_test = train_test_split(X, y, random_state=1)"
   ]
  },
  {
   "cell_type": "code",
   "execution_count": 121,
   "metadata": {},
   "outputs": [
    {
     "name": "stdout",
     "output_type": "stream",
     "text": [
      "Training Logistic Regression\n"
     ]
    }
   ],
   "source": [
    "LR = Logistic_Regression()\n",
    "LR.fit(X_train, y_train)"
   ]
  },
  {
   "cell_type": "code",
   "execution_count": 122,
   "metadata": {},
   "outputs": [],
   "source": [
    "pred = LR.predict(X_test)"
   ]
  },
  {
   "cell_type": "code",
   "execution_count": 123,
   "metadata": {},
   "outputs": [
    {
     "name": "stdout",
     "output_type": "stream",
     "text": [
      "Accuray of Logistic Regression Model is  0.864\n"
     ]
    }
   ],
   "source": [
    "print('Accuray of Logistic Regression Model is ', np.mean(pred == y_test))"
   ]
  }
 ],
 "metadata": {
  "kernelspec": {
   "display_name": "Python 3",
   "language": "python",
   "name": "python3"
  },
  "language_info": {
   "codemirror_mode": {
    "name": "ipython",
    "version": 3
   },
   "file_extension": ".py",
   "mimetype": "text/x-python",
   "name": "python",
   "nbconvert_exporter": "python",
   "pygments_lexer": "ipython3",
   "version": "3.9.9"
  }
 },
 "nbformat": 4,
 "nbformat_minor": 4
}
