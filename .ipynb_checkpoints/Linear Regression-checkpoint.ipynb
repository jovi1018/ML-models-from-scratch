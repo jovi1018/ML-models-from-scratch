{
 "cells": [
  {
   "cell_type": "code",
   "execution_count": 2,
   "metadata": {},
   "outputs": [],
   "source": [
    "import numpy as np\n",
    "from sklearn.datasets import make_regression"
   ]
  },
  {
   "cell_type": "code",
   "execution_count": 4,
   "metadata": {},
   "outputs": [],
   "source": [
    "X, y = make_regression(n_samples=1000, n_features=20)"
   ]
  },
  {
   "cell_type": "code",
   "execution_count": 5,
   "metadata": {},
   "outputs": [
    {
     "data": {
      "text/plain": [
       "(1000, 20)"
      ]
     },
     "execution_count": 5,
     "metadata": {},
     "output_type": "execute_result"
    }
   ],
   "source": [
    "X.shape"
   ]
  },
  {
   "cell_type": "code",
   "execution_count": 4,
   "metadata": {},
   "outputs": [
    {
     "data": {
      "text/plain": [
       "(1000,)"
      ]
     },
     "execution_count": 4,
     "metadata": {},
     "output_type": "execute_result"
    }
   ],
   "source": [
    "y.shape"
   ]
  },
  {
   "cell_type": "code",
   "execution_count": 5,
   "metadata": {},
   "outputs": [],
   "source": [
    "class Linear_Regression():\n",
    "    def __init__(self):\n",
    "        self\n",
    "    def fit(self, X=None, y=None, W = None, lr = 0.1, n_iteration = 1000):\n",
    "        self.W = np.random.randn(X.shape[1] + 1)\n",
    "        cost = np.sum((np.dot(X, self.W[1:]) + self.W[0] - y) ** 2) / (2 * X.shape[0]) \n",
    "        for _ in range(n_iteration):\n",
    "            dev_w = np.dot((np.dot(X, self.W[1:]) + self.W[0] - y), X) / X.shape[0]\n",
    "            dev_b = np.sum(np.dot(X, self.W[1:]) + self.W[0] - y) / X.shape[0]\n",
    "            self.W[1:] -= lr * dev_w\n",
    "            self.W[0] -= lr * dev_b\n",
    "            cost = np.sum((np.dot(X, self.W[1:]) + self.W[0] - y) ** 2) / (2 * X.shape[0]) \n",
    "        print('Training Linear Regression Model')\n",
    "        #return W, b, n\n",
    "    def predict(self, X_test = None):\n",
    "        return np.dot(X_test, self.W[1:]) + self.W[0]\n",
    "        "
   ]
  },
  {
   "cell_type": "code",
   "execution_count": 6,
   "metadata": {},
   "outputs": [],
   "source": [
    "from sklearn.model_selection import train_test_split\n",
    "X_train, X_test, y_train, y_test = train_test_split(X, y, test_size = 0.3)"
   ]
  },
  {
   "cell_type": "code",
   "execution_count": 7,
   "metadata": {},
   "outputs": [
    {
     "name": "stdout",
     "output_type": "stream",
     "text": [
      "Training Linear Regression Model\n"
     ]
    }
   ],
   "source": [
    "lr = Linear_Regression()\n",
    "lr.fit(X_train, y_train)"
   ]
  },
  {
   "cell_type": "code",
   "execution_count": 8,
   "metadata": {},
   "outputs": [],
   "source": [
    "pred = lr.predict(X_test)"
   ]
  },
  {
   "cell_type": "code",
   "execution_count": 9,
   "metadata": {},
   "outputs": [
    {
     "name": "stdout",
     "output_type": "stream",
     "text": [
      "Mean_squared_error:  4.4563068080297046e-26\n"
     ]
    }
   ],
   "source": [
    "mse  = np.sum((pred - y_test) ** 2) / len(y_test)\n",
    "print('Mean_squared_error: ', mse)"
   ]
  },
  {
   "cell_type": "code",
   "execution_count": 10,
   "metadata": {},
   "outputs": [
    {
     "data": {
      "text/plain": [
       "56.23032524430421"
      ]
     },
     "execution_count": 10,
     "metadata": {},
     "output_type": "execute_result"
    }
   ],
   "source": [
    "pred[2]"
   ]
  },
  {
   "cell_type": "code",
   "execution_count": 11,
   "metadata": {},
   "outputs": [
    {
     "data": {
      "text/plain": [
       "56.230325244304346"
      ]
     },
     "execution_count": 11,
     "metadata": {},
     "output_type": "execute_result"
    }
   ],
   "source": [
    "y_test[2]"
   ]
  },
  {
   "cell_type": "code",
   "execution_count": 10,
   "metadata": {},
   "outputs": [
    {
     "data": {
      "text/plain": [
       "array([ 3.56086693e+01,  5.55111512e-16,  7.11001615e+01,  1.73005814e+01,\n",
       "       -2.10942375e-15,  7.06998277e+01,  3.21964677e-15,  8.03145683e+01,\n",
       "       -2.33146835e-15,  0.00000000e+00, -1.66533454e-15,  1.33226763e-15,\n",
       "        4.19016730e+01,  3.94659545e+01,  3.38858174e+01, -4.66293670e-15,\n",
       "        3.38735800e+01, -4.66293670e-15,  2.31956024e+01,  1.11022302e-16])"
      ]
     },
     "execution_count": 10,
     "metadata": {},
     "output_type": "execute_result"
    }
   ],
   "source": [
    "np.dot(np.dot(np.linalg.inv(np.dot(X.T, X)), X.T), y)"
   ]
  },
  {
   "cell_type": "markdown",
   "metadata": {},
   "source": [
    "# Close Forms\n",
    "\n",
    "$$W = {(X^T\\cdot X)^{-1}\\cdot X^T\\cdot y}$$"
   ]
  },
  {
   "cell_type": "code",
   "execution_count": 18,
   "metadata": {},
   "outputs": [],
   "source": [
    "class LR_CF():\n",
    "    def __init__(self):\n",
    "        self\n",
    "    def fit(self, X, y):\n",
    "        self.W = np.dot(np.dot(np.linalg.inv(np.dot(X.T, X)), X.T), y)\n",
    "        print('Training Linear Regression Closed Form Model')\n",
    "        #return W, b, n\n",
    "    def predict(self, X_test = None):\n",
    "        return np.dot(X_test, self.W)\n",
    "        "
   ]
  },
  {
   "cell_type": "code",
   "execution_count": 19,
   "metadata": {},
   "outputs": [],
   "source": [
    "from sklearn.model_selection import train_test_split\n",
    "X_train, X_test, y_train, y_test = train_test_split(X, y, test_size = 0.3)"
   ]
  },
  {
   "cell_type": "code",
   "execution_count": 20,
   "metadata": {},
   "outputs": [
    {
     "name": "stdout",
     "output_type": "stream",
     "text": [
      "Training Linear Regression Closed Form Model\n"
     ]
    }
   ],
   "source": [
    "lr = LR_CF()\n",
    "lr.fit(X_train, y_train)"
   ]
  },
  {
   "cell_type": "code",
   "execution_count": 21,
   "metadata": {},
   "outputs": [],
   "source": [
    "pred = lr.predict(X_test)"
   ]
  },
  {
   "cell_type": "code",
   "execution_count": 22,
   "metadata": {},
   "outputs": [
    {
     "name": "stdout",
     "output_type": "stream",
     "text": [
      "Mean_squared_error:  1.5051676434524964e-27\n"
     ]
    }
   ],
   "source": [
    "mse  = np.sum((pred - y_test) ** 2) / len(y_test)\n",
    "print('Mean_squared_error: ', mse)"
   ]
  },
  {
   "cell_type": "code",
   "execution_count": 23,
   "metadata": {},
   "outputs": [
    {
     "data": {
      "text/plain": [
       "-130.41624967777597"
      ]
     },
     "execution_count": 23,
     "metadata": {},
     "output_type": "execute_result"
    }
   ],
   "source": [
    "pred[2]"
   ]
  },
  {
   "cell_type": "code",
   "execution_count": 24,
   "metadata": {},
   "outputs": [
    {
     "data": {
      "text/plain": [
       "-130.41624967777594"
      ]
     },
     "execution_count": 24,
     "metadata": {},
     "output_type": "execute_result"
    }
   ],
   "source": [
    "y_test[2]"
   ]
  }
 ],
 "metadata": {
  "kernelspec": {
   "display_name": "Python 3",
   "language": "python",
   "name": "python3"
  },
  "language_info": {
   "codemirror_mode": {
    "name": "ipython",
    "version": 3
   },
   "file_extension": ".py",
   "mimetype": "text/x-python",
   "name": "python",
   "nbconvert_exporter": "python",
   "pygments_lexer": "ipython3",
   "version": "3.6.5"
  }
 },
 "nbformat": 4,
 "nbformat_minor": 4
}
