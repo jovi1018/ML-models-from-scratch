{
 "cells": [
  {
   "cell_type": "code",
   "execution_count": 1,
   "metadata": {},
   "outputs": [],
   "source": [
    "import numpy as np"
   ]
  },
  {
   "cell_type": "code",
   "execution_count": 78,
   "metadata": {},
   "outputs": [],
   "source": [
    "A = np.array([[3, 2, 2], [2, 3, -2]], dtype='float64')"
   ]
  },
  {
   "cell_type": "code",
   "execution_count": 79,
   "metadata": {},
   "outputs": [
    {
     "data": {
      "text/plain": [
       "array([[ 3.,  2.,  2.],\n",
       "       [ 2.,  3., -2.]])"
      ]
     },
     "execution_count": 79,
     "metadata": {},
     "output_type": "execute_result"
    }
   ],
   "source": [
    "A"
   ]
  },
  {
   "cell_type": "code",
   "execution_count": 180,
   "metadata": {},
   "outputs": [],
   "source": [
    "class PC_Analysis():\n",
    "    def __init__(self, n_components = None):\n",
    "        self.n_components = n_components\n",
    "        \n",
    "    def fit(self, A):\n",
    "        self.A_central = A - np.mean(A, axis=0)\n",
    "        cov_mat = np.dot(self.A_central.T, A)\n",
    "        _, eigenvalues, eigenvectors =  np.linalg.svd(cov_mat)\n",
    "        sorted_index = np.argsort(eigenvalues)[::-1]\n",
    "        \n",
    "        if self.n_components == None:\n",
    "            self.vectors = eigenvectors[sorted_index]\n",
    "        else:\n",
    "            self.vectors = eigenvectors[sorted_index, :self.n_components]\n",
    "        print('PCA()')\n",
    "    \n",
    "    def tranform(self, A):\n",
    "        return np.dot(self.A_central, self.vectors)"
   ]
  },
  {
   "cell_type": "code",
   "execution_count": 184,
   "metadata": {},
   "outputs": [],
   "source": [
    "pca = PC_Analysis(n_components=1)"
   ]
  },
  {
   "cell_type": "code",
   "execution_count": 185,
   "metadata": {},
   "outputs": [
    {
     "name": "stdout",
     "output_type": "stream",
     "text": [
      "PCA()\n"
     ]
    }
   ],
   "source": [
    "pca.fit(A)"
   ]
  },
  {
   "cell_type": "code",
   "execution_count": 186,
   "metadata": {},
   "outputs": [
    {
     "data": {
      "text/plain": [
       "array([[-0.66480716],\n",
       "       [ 0.66480716]])"
      ]
     },
     "execution_count": 186,
     "metadata": {},
     "output_type": "execute_result"
    }
   ],
   "source": [
    "pca.tranform(A)"
   ]
  }
 ],
 "metadata": {
  "kernelspec": {
   "display_name": "Python 3",
   "language": "python",
   "name": "python3"
  },
  "language_info": {
   "codemirror_mode": {
    "name": "ipython",
    "version": 3
   },
   "file_extension": ".py",
   "mimetype": "text/x-python",
   "name": "python",
   "nbconvert_exporter": "python",
   "pygments_lexer": "ipython3",
   "version": "3.6.5"
  }
 },
 "nbformat": 4,
 "nbformat_minor": 2
}
