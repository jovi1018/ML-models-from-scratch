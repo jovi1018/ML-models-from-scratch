{
 "cells": [
  {
   "cell_type": "code",
   "execution_count": 1,
   "metadata": {},
   "outputs": [],
   "source": [
    "import numpy as np\n",
    "from sklearn.datasets import make_classification"
   ]
  },
  {
   "cell_type": "code",
   "execution_count": 2,
   "metadata": {},
   "outputs": [],
   "source": [
    "X, y = make_classification(n_samples=500, n_features=5, n_clusters_per_class=1, n_classes=2)"
   ]
  },
  {
   "cell_type": "code",
   "execution_count": 3,
   "metadata": {},
   "outputs": [],
   "source": [
    "from sklearn.model_selection import train_test_split"
   ]
  },
  {
   "cell_type": "code",
   "execution_count": 4,
   "metadata": {},
   "outputs": [],
   "source": [
    "X_train, X_test, y_train, y_test = train_test_split(X, y, test_size =0.2, random_state=1)"
   ]
  },
  {
   "cell_type": "code",
   "execution_count": 5,
   "metadata": {},
   "outputs": [],
   "source": [
    "class KNNClassifier():\n",
    "    def __init__(self, n_neighbors = 5):\n",
    "        self.n_neighbors = n_neighbors\n",
    "    def fit(self, X, y):\n",
    "        self.X = X\n",
    "        self.y = y\n",
    "        print(\"KNNClassifier()\")\n",
    "    def predict(self, X_test):\n",
    "        pred = []\n",
    "        for i in range(len(X_test)):\n",
    "            dist = np.sum(((self.X - X_test[i]) ** 2), axis=1) \n",
    "            most_frequency = self.y[dist.argsort()[:self.n_neighbors]]\n",
    "            counts = np.bincount(most_frequency)\n",
    "            pred.append(np.argmax(counts))\n",
    "        pred = np.array(pred)\n",
    "        return pred"
   ]
  },
  {
   "cell_type": "code",
   "execution_count": 6,
   "metadata": {},
   "outputs": [
    {
     "name": "stdout",
     "output_type": "stream",
     "text": [
      "KNNClassifier()\n"
     ]
    }
   ],
   "source": [
    "KNN = KNNClassifier()\n",
    "KNN.fit(X_train, y_train)\n",
    "pred = KNN.predict(X_test)"
   ]
  },
  {
   "cell_type": "code",
   "execution_count": 7,
   "metadata": {},
   "outputs": [
    {
     "name": "stdout",
     "output_type": "stream",
     "text": [
      "Accuracy of KNN Classifier is 0.99\n"
     ]
    }
   ],
   "source": [
    "print('Accuracy of KNN Classifier is {}'.format(np.mean(y_test == pred)))"
   ]
  }
 ],
 "metadata": {
  "interpreter": {
   "hash": "0916ff24b2df39f00e86d3fd42a5a147843e3cd5722839dea8fcddb38a60cef2"
  },
  "kernelspec": {
   "display_name": "Python 3.9.9 64-bit (windows store)",
   "language": "python",
   "name": "python3"
  },
  "language_info": {
   "codemirror_mode": {
    "name": "ipython",
    "version": 3
   },
   "file_extension": ".py",
   "mimetype": "text/x-python",
   "name": "python",
   "nbconvert_exporter": "python",
   "pygments_lexer": "ipython3",
   "version": "3.9.9"
  },
  "orig_nbformat": 4
 },
 "nbformat": 4,
 "nbformat_minor": 2
}
